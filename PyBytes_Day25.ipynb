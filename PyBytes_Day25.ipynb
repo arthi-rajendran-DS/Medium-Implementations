{
  "nbformat": 4,
  "nbformat_minor": 0,
  "metadata": {
    "colab": {
      "provenance": [],
      "authorship_tag": "ABX9TyN5WI5wXYrJh6KfX8s+Rs0R",
      "include_colab_link": true
    },
    "kernelspec": {
      "name": "python3",
      "display_name": "Python 3"
    },
    "language_info": {
      "name": "python"
    }
  },
  "cells": [
    {
      "cell_type": "markdown",
      "metadata": {
        "id": "view-in-github",
        "colab_type": "text"
      },
      "source": [
        "<a href=\"https://colab.research.google.com/github/arthi-rajendran-DS/Medium-Implementations/blob/main/PyBytes_Day25.ipynb\" target=\"_parent\"><img src=\"https://colab.research.google.com/assets/colab-badge.svg\" alt=\"Open In Colab\"/></a>"
      ]
    },
    {
      "cell_type": "markdown",
      "source": [
        "# Create \"Truly\" Private variables & Methods\n",
        "\n"
      ],
      "metadata": {
        "id": "A3XBS4fYN5Ka"
      }
    },
    {
      "cell_type": "markdown",
      "source": [
        "In Python, there is a convention that variables and methods starting with a single underscore (_) are considered \"internal use\" and should not be accessed directly from outside the class or module. However, these variables and methods can still be accessed if desired.\n",
        "\n",
        "To create a truly \"private\" variable or method that cannot be accessed from outside the class or module, you can use double underscores (__) at the beginning of its name. This triggers a mechanism called \"name mangling\" where the variable or method is rewritten internally to include the class or module name."
      ],
      "metadata": {
        "id": "kit7pMEIN0zf"
      }
    },
    {
      "cell_type": "code",
      "execution_count": 1,
      "metadata": {
        "colab": {
          "base_uri": "https://localhost:8080/"
        },
        "id": "52spxupqNzvC",
        "outputId": "1ba360b7-00fc-4da0-f974-53804f6954a3"
      },
      "outputs": [
        {
          "output_type": "stream",
          "name": "stdout",
          "text": [
            "42\n",
            "This is a private method.\n"
          ]
        }
      ],
      "source": [
        "class MyClass:\n",
        "    def __init__(self):\n",
        "        self.__private_var = 42\n",
        "\n",
        "    def __private_method(self):\n",
        "        print(\"This is a private method.\")\n",
        "\n",
        "my_object = MyClass()\n",
        "\n",
        "# Accessing the private variable (name mangling)\n",
        "print(my_object._MyClass__private_var)\n",
        "\n",
        "# Calling the private method (name mangling)\n",
        "my_object._MyClass__private_method()\n"
      ]
    },
    {
      "cell_type": "markdown",
      "source": [
        "By using double underscores, you can effectively hide variables and methods from accidental access or modification by other parts of your code. However, keep in mind that this is more of a convention than a strict enforcement, and Python developers can still access these \"private\" elements if they really want to."
      ],
      "metadata": {
        "id": "2mUE4sHXOB8q"
      }
    }
  ]
}