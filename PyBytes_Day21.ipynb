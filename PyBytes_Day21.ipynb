{
  "nbformat": 4,
  "nbformat_minor": 0,
  "metadata": {
    "colab": {
      "provenance": [],
      "authorship_tag": "ABX9TyM7/qQnozAatoAqW2wyZJbe",
      "include_colab_link": true
    },
    "kernelspec": {
      "name": "python3",
      "display_name": "Python 3"
    },
    "language_info": {
      "name": "python"
    }
  },
  "cells": [
    {
      "cell_type": "markdown",
      "metadata": {
        "id": "view-in-github",
        "colab_type": "text"
      },
      "source": [
        "<a href=\"https://colab.research.google.com/github/arthi-rajendran-DS/Medium-Implementations/blob/main/PyBytes_Day21.ipynb\" target=\"_parent\"><img src=\"https://colab.research.google.com/assets/colab-badge.svg\" alt=\"Open In Colab\"/></a>"
      ]
    },
    {
      "cell_type": "markdown",
      "source": [
        "# PySpark on Google Colab"
      ],
      "metadata": {
        "id": "5ptazAKHPIsB"
      }
    },
    {
      "cell_type": "markdown",
      "source": [
        "Running PySpark on Google Colab is a convenient way to leverage the power of Spark in a cloud-based environment. Google Colab provides a Jupyter notebook interface with free access to a GPU and limited access to a TPU, making it suitable for experimenting with PySpark. Here's how you can set up PySpark on Google Colab:\n",
        "\n",
        "Step 1: Create a new notebook or open an existing one in Google Colab.\n",
        "\n",
        "Step 2: Install PySpark and findspark libraries."
      ],
      "metadata": {
        "id": "O4k-YSGRO-GD"
      }
    },
    {
      "cell_type": "code",
      "execution_count": 1,
      "metadata": {
        "colab": {
          "base_uri": "https://localhost:8080/"
        },
        "id": "TJwkbvANO4rf",
        "outputId": "60597c36-930e-42be-b18c-4effe4e6680b"
      },
      "outputs": [
        {
          "output_type": "stream",
          "name": "stdout",
          "text": [
            "Looking in indexes: https://pypi.org/simple, https://us-python.pkg.dev/colab-wheels/public/simple/\n",
            "Collecting pyspark\n",
            "  Downloading pyspark-3.4.0.tar.gz (310.8 MB)\n",
            "\u001b[2K     \u001b[90m━━━━━━━━━━━━━━━━━━━━━━━━━━━━━━━━━━━━━━━\u001b[0m \u001b[32m310.8/310.8 MB\u001b[0m \u001b[31m2.9 MB/s\u001b[0m eta \u001b[36m0:00:00\u001b[0m\n",
            "\u001b[?25h  Preparing metadata (setup.py) ... \u001b[?25l\u001b[?25hdone\n",
            "Requirement already satisfied: py4j==0.10.9.7 in /usr/local/lib/python3.10/dist-packages (from pyspark) (0.10.9.7)\n",
            "Building wheels for collected packages: pyspark\n",
            "  Building wheel for pyspark (setup.py) ... \u001b[?25l\u001b[?25hdone\n",
            "  Created wheel for pyspark: filename=pyspark-3.4.0-py2.py3-none-any.whl size=311317130 sha256=f022db164132de7c536208595e9b554cf7c392f05d4a380057863ae82b564079\n",
            "  Stored in directory: /root/.cache/pip/wheels/7b/1b/4b/3363a1d04368e7ff0d408e57ff57966fcdf00583774e761327\n",
            "Successfully built pyspark\n",
            "Installing collected packages: pyspark\n",
            "Successfully installed pyspark-3.4.0\n",
            "Looking in indexes: https://pypi.org/simple, https://us-python.pkg.dev/colab-wheels/public/simple/\n",
            "Collecting findspark\n",
            "  Downloading findspark-2.0.1-py2.py3-none-any.whl (4.4 kB)\n",
            "Installing collected packages: findspark\n",
            "Successfully installed findspark-2.0.1\n"
          ]
        }
      ],
      "source": [
        "!pip install pyspark\n",
        "!pip install findspark"
      ]
    },
    {
      "cell_type": "markdown",
      "source": [
        "#### Step 3: Set up the environment and initialize a SparkSession in a new cell:"
      ],
      "metadata": {
        "id": "W3jkfVqiPY6f"
      }
    },
    {
      "cell_type": "code",
      "source": [
        "import findspark\n",
        "findspark.init()\n",
        "\n",
        "from pyspark.sql import SparkSession\n",
        "\n",
        "# Create a SparkSession\n",
        "spark = SparkSession.builder.master(\"local[*]\").getOrCreate()\n"
      ],
      "metadata": {
        "id": "ALPcP0n_Pfzv"
      },
      "execution_count": 2,
      "outputs": []
    },
    {
      "cell_type": "markdown",
      "source": [
        "#### The findspark library helps locate the Spark installation in the Colab environment. The SparkSession.builder.master(\"local[*]\") configuration sets up Spark to run in local mode using all available cores."
      ],
      "metadata": {
        "id": "IfQM3ga9Phy8"
      }
    },
    {
      "cell_type": "markdown",
      "source": [
        "#### Step 4: Now, we can write your PySpark code in subsequent cells and run it. For example, we can use it to build a word counter :"
      ],
      "metadata": {
        "id": "q97J3NtSPnMl"
      }
    },
    {
      "cell_type": "code",
      "source": [
        "# Load the text file into an RDD\n",
        "lines_rdd = spark.sparkContext.textFile(\"/content/sample_data/demo.txt\")\n",
        "\n",
        "# Split the lines into words\n",
        "words_rdd = lines_rdd.flatMap(lambda line: line.split(\" \"))\n",
        "\n",
        "# Map each word to a key-value pair\n",
        "word_count_rdd = words_rdd.map(lambda word: (word, 1))\n",
        "\n",
        "# Reduce by key to get the count of each word\n",
        "word_counts = word_count_rdd.reduceByKey(lambda a, b: a + b)\n",
        "\n",
        "# Collect the word counts and print\n",
        "results = word_counts.collect()\n",
        "for (word, count) in results:\n",
        "    print(f\"{word}: {count}\")\n"
      ],
      "metadata": {
        "colab": {
          "base_uri": "https://localhost:8080/"
        },
        "id": "XAQP-_5-PliD",
        "outputId": "fa03632f-4b30-4c3a-ba23-edd7a14622de"
      },
      "execution_count": 3,
      "outputs": [
        {
          "output_type": "stream",
          "name": "stdout",
          "text": [
            "Hello,: 1\n",
            "this: 1\n",
            "is: 3\n",
            "an: 1\n",
            "file.: 2\n",
            "It: 1\n",
            "multiple: 1\n",
            "of: 1\n",
            "The: 1\n",
            "count: 1\n",
            "in: 1\n",
            "PySpark: 1\n",
            "example: 1\n",
            "text: 2\n",
            "contains: 1\n",
            "lines: 1\n",
            "with: 1\n",
            "words: 1\n",
            "repeating: 1\n",
            "throughout: 1\n",
            "the: 1\n",
            "purpose: 1\n",
            "to: 1\n",
            "demonstrate: 1\n",
            "word: 1\n",
            "PySpark.: 1\n",
            "a: 1\n",
            "powerful: 1\n",
            "tool: 1\n",
            "for: 1\n",
            "distributed: 1\n",
            "data: 1\n",
            "processing.: 1\n"
          ]
        }
      ]
    }
  ]
}