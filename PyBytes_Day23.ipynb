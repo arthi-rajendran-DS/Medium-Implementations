{
  "nbformat": 4,
  "nbformat_minor": 0,
  "metadata": {
    "colab": {
      "provenance": [],
      "authorship_tag": "ABX9TyONkghA+sKPW/hvXy8bqqmP",
      "include_colab_link": true
    },
    "kernelspec": {
      "name": "python3",
      "display_name": "Python 3"
    },
    "language_info": {
      "name": "python"
    }
  },
  "cells": [
    {
      "cell_type": "markdown",
      "metadata": {
        "id": "view-in-github",
        "colab_type": "text"
      },
      "source": [
        "<a href=\"https://colab.research.google.com/github/arthi-rajendran-DS/Medium-Implementations/blob/main/PyBytes_Day23.ipynb\" target=\"_parent\"><img src=\"https://colab.research.google.com/assets/colab-badge.svg\" alt=\"Open In Colab\"/></a>"
      ]
    },
    {
      "cell_type": "markdown",
      "source": [
        "# Build a conventional language translator"
      ],
      "metadata": {
        "id": "fMWEIqH7NsMk"
      }
    },
    {
      "cell_type": "markdown",
      "source": [
        "In a world of emerging LLMs, learn to build a language translator the conventional way.\n",
        "\n",
        "The 𝒕𝒓𝒂𝒏𝒔𝒍𝒂𝒕𝒆 library provides a simple interface for language translation.\n",
        "The 𝒕𝒓𝒂𝒏𝒔𝒍𝒂𝒕𝒆_𝒕𝒆𝒙𝒕 function takes the text to translate and the target language code as inputs. It creates a 𝑻𝒓𝒂𝒏𝒔𝒍𝒂𝒕𝒐𝒓 object with the target language specified, translates the text using the 𝒕𝒓𝒂𝒏𝒔𝒍𝒂𝒕𝒆 method, and returns the translated text. Finally, the translated text is printed to the console.\n",
        "\n",
        "There are a variety of available languages e.g. 𝘦𝘯, 𝘫𝘢, 𝘬𝘰, 𝘱𝘵, 𝘻𝘩, 𝘻𝘩-𝘛𝘞, etc.,\n",
        "\n",
        "Please note that the 𝒕𝒓𝒂𝒏𝒔𝒍𝒂𝒕𝒆 library might use different translation engines or APIs (not specifically google translate)"
      ],
      "metadata": {
        "id": "X-h-RByANlaS"
      }
    },
    {
      "cell_type": "code",
      "execution_count": 1,
      "metadata": {
        "id": "IdFdeVpPNa0m"
      },
      "outputs": [],
      "source": [
        "!pip install -q translate"
      ]
    },
    {
      "cell_type": "code",
      "source": [
        "from translate import Translator\n",
        "\n",
        "def translate_text(text, target_lang):\n",
        "    translator = Translator(to_lang=target_lang)\n",
        "    translation = translator.translate(text)\n",
        "    return translation\n",
        "\n",
        "# Example usage\n",
        "text_to_translate = \"Hello, how are you?\"\n",
        "target_language = \"es\"\n",
        "translated_text = translate_text(text_to_translate, target_language)\n",
        "print(translated_text)\n"
      ],
      "metadata": {
        "colab": {
          "base_uri": "https://localhost:8080/"
        },
        "id": "HTc7Zs9oNcYQ",
        "outputId": "ba9e353c-7751-4a8d-8d1e-d89397151849"
      },
      "execution_count": 2,
      "outputs": [
        {
          "output_type": "stream",
          "name": "stdout",
          "text": [
            "Hola, ¿cómo estás?\n"
          ]
        }
      ]
    }
  ]
}