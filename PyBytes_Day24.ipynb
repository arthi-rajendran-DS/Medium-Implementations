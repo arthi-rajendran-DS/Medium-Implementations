{
  "nbformat": 4,
  "nbformat_minor": 0,
  "metadata": {
    "colab": {
      "provenance": [],
      "authorship_tag": "ABX9TyM+B33XzNYhJrqKdoOGcUrU"
    },
    "kernelspec": {
      "name": "python3",
      "display_name": "Python 3"
    },
    "language_info": {
      "name": "python"
    }
  },
  "cells": [
    {
      "cell_type": "code",
      "execution_count": null,
      "metadata": {
        "id": "_8vsa9CybQys"
      },
      "outputs": [],
      "source": [
        "import winsound\n",
        "\n",
        "def notify_sound():\n",
        "    frequency = 1000  # Set the frequency (range: 37 to 32767)\n",
        "    duration = 2000  # Set the duration in milliseconds\n",
        "\n",
        "    winsound.Beep(frequency, duration)\n",
        "# Your program code here...\n",
        "\n",
        "# At the end of your program\n",
        "notify_sound()\n"
      ]
    }
  ]
}